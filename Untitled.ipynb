{
 "cells": [
  {
   "cell_type": "markdown",
   "metadata": {},
   "source": [
    "### Imports "
   ]
  },
  {
   "cell_type": "code",
   "execution_count": 1,
   "metadata": {
    "collapsed": true,
    "scrolled": true
   },
   "outputs": [],
   "source": [
    "from riotwatcher import RiotWatcher\n",
    "from IPython.display import display, HTML\n",
    "import numpy as np\n",
    "import pandas as pd\n",
    "import urllib3\n",
    "import time\n",
    "from IPython.display import clear_output"
   ]
  },
  {
   "cell_type": "markdown",
   "metadata": {},
   "source": [
    "### Funciones"
   ]
  },
  {
   "cell_type": "code",
   "execution_count": 2,
   "metadata": {
    "collapsed": true
   },
   "outputs": [],
   "source": [
    "def ProcessParticipantsIdentities(param_partido, param_df):\n",
    "    participantIdentities = param_partido['participantIdentities']\n",
    "    df_participantIdentities_temp = None\n",
    "    \n",
    "    for index, row in enumerate(participantIdentities):\n",
    "        df_participantIdentities_temp = pd.DataFrame(participantIdentities[index]['player'], index=[0])\n",
    "        df_participantIdentities_temp['participantId'] = participantIdentities[index]['participantId'] \n",
    "        df_participantIdentities_temp['gameId']  = param_partido['gameId']\n",
    "        param_df = pd.concat([param_df, df_participantIdentities_temp])\n",
    "        param_df = param_df.reset_index(drop=True)\n",
    "        \n",
    "    return param_df"
   ]
  },
  {
   "cell_type": "code",
   "execution_count": 3,
   "metadata": {
    "collapsed": true
   },
   "outputs": [],
   "source": [
    "def ProcessGameData(param_partido, param_df):\n",
    "    df_game_data_temp = pd.DataFrame(param_partido, index=[0])\n",
    "    param_df = pd.concat([param_df, df_game_data_temp])\n",
    "    param_df = param_df.reset_index(drop=True)\n",
    "    return param_df"
   ]
  },
  {
   "cell_type": "code",
   "execution_count": 4,
   "metadata": {
    "collapsed": true
   },
   "outputs": [],
   "source": [
    "def ProcessParticipants(param_partido, param_df_participants, param_df_participants_stats):\n",
    "    participants = param_partido['participants']\n",
    "    df_participants_temp = None\n",
    "    df_participants_stats_temp = None\n",
    "    \n",
    "    for index, row in enumerate(participants):\n",
    "        # Stats\n",
    "        df_participants_stats_temp = pd.DataFrame(participants[index]['stats'], index=[0])\n",
    "        df_participants_stats_temp['timeline'] = [participants[index]['timeline']] \n",
    "        param_df_participants_stats = pd.concat([param_df_participants_stats, df_participants_stats_temp])\n",
    "        param_df_participants_stats = param_df_participants_stats.reset_index(drop=True)\n",
    "        \n",
    "        del participants[index]['stats']\n",
    "        del participants[index]['timeline']\n",
    "        \n",
    "        df_participants_temp = pd.DataFrame(participants[index], index=[0])\n",
    "        df_participants_temp['gameId']  = param_partido['gameId']\n",
    "        df_participants_temp['participantId']  = i+1\n",
    "        df_participants_temp['participant_account_id'] = param_partido['participantIdentities'][index]['player']['accountId']\n",
    "        param_df_participants = pd.concat([param_df_participants, df_participants_temp])\n",
    "        param_df_participants = param_df_participants.reset_index(drop=True)\n",
    "        \n",
    "    return param_df_participants, param_df_participants_stats"
   ]
  },
  {
   "cell_type": "code",
   "execution_count": 5,
   "metadata": {
    "collapsed": true
   },
   "outputs": [],
   "source": [
    "def ProcessTeams(param_partido, param_df_teams):\n",
    "    teams = param_partido['teams']\n",
    "    df_teams_temp = None\n",
    "    for index, row in enumerate(teams):\n",
    "        # Stats\n",
    "        bans = [teams[index]['bans']]\n",
    "        del teams[index]['bans']\n",
    "        df_teams_temp = pd.DataFrame(teams[index], index=[0])\n",
    "        df_teams_temp['gameId']  = param_partido['gameId']\n",
    "        df_teams_temp['bans'] = bans\n",
    "        param_df_teams = pd.concat([param_df_teams, df_teams_temp])\n",
    "        param_df_teams = param_df_teams.reset_index(drop=True)\n",
    "    return param_df_teams"
   ]
  },
  {
   "cell_type": "markdown",
   "metadata": {},
   "source": [
    "### Fill variables"
   ]
  },
  {
   "cell_type": "code",
   "execution_count": 6,
   "metadata": {
    "collapsed": true
   },
   "outputs": [],
   "source": [
    "watcher = RiotWatcher('RGAPI-83971827-e63d-4459-977f-098b2418761a')\n",
    "my_region = 'euw1'\n",
    "player_name = 'vcf xmissu'"
   ]
  },
  {
   "cell_type": "code",
   "execution_count": 7,
   "metadata": {
    "collapsed": true
   },
   "outputs": [],
   "source": [
    "player_data_df = pd.DataFrame(watcher.summoner.by_name(my_region, player_name), index=[0])\n",
    "writer = pd.ExcelWriter(player_name + '_' + str(player_data_df['accountId']) + '.xlsx')\n",
    "player_data_df.to_excel(writer,'player_data')"
   ]
  },
  {
   "cell_type": "code",
   "execution_count": 8,
   "metadata": {},
   "outputs": [
    {
     "name": "stdout",
     "output_type": "stream",
     "text": [
      "Capturando partidas de  0 a 100\n",
      "Capturando partidas de  100 a 200\n",
      "Capturando partidas de  200 a 300\n",
      "Capturando partidas de  300 a 400\n",
      "Capturando partidas de  400 a 500\n",
      "Capturando partidas de  500 a 600\n",
      "Capturando partidas de  600 a 700\n",
      "Capturando partidas de  700 a 800\n",
      "Capturando partidas de  800 a 900\n",
      "Capturando partidas de  900 a 1000\n",
      "Capturando partidas de  1000 a 1100\n",
      "Capturando partidas de  1100 a 1200\n",
      "Capturando partidas de  1200 a 1300\n",
      "FIN\n",
      "Hay 1223 Partidas\n"
     ]
    }
   ],
   "source": [
    "beggining_index = 0\n",
    "ended = False\n",
    "dataframe_matches = None\n",
    "dataframe_matches_temp = None\n",
    "while ended is False:\n",
    "    try:\n",
    "        print(\"Capturando partidas de \", beggining_index, \"a\", beggining_index + 100)\n",
    "        response_matches = watcher.match.matchlist_by_account(region=my_region, account_id=str(player_data_df['accountId'][0]), queue=420, begin_index=beggining_index, end_index=beggining_index+100 , season=11)\n",
    "        dataframe_matches_temp = pd.DataFrame(response_matches['matches'])\n",
    "        dataframe_matches = pd.concat([dataframe_matches, dataframe_matches_temp])\n",
    "        dataframe_matches = dataframe_matches.reset_index(drop=True)\n",
    "        if len(dataframe_matches_temp.index) is not 100:\n",
    "            ended = True\n",
    "            print(\"FIN\")\n",
    "            print(\"Hay\", len(dataframe_matches.index), \"Partidas\")\n",
    "        beggining_index = beggining_index + 100\n",
    "    except urllib3.exceptions.HTTPError as err:\n",
    "        if err.response.status_code == 429:\n",
    "            print('We should retry in {} seconds.'.format(e.headers['Retry-After']))\n",
    "            print('this retry-after is handled by default by the RiotWatcher library')\n",
    "            print('future requests wait until the retry-after time passes')\n",
    "        elif err.response.status_code == 404:\n",
    "            print('Summoner with that ridiculous name not found.')\n",
    "        else:\n",
    "            raise"
   ]
  },
  {
   "cell_type": "code",
   "execution_count": 9,
   "metadata": {
    "collapsed": true
   },
   "outputs": [],
   "source": [
    "dataframe_matches = dataframe_matches.sort_values('timestamp', ascending=False)\n",
    "dataframe_matches.to_excel(writer,'games_list')"
   ]
  },
  {
   "cell_type": "markdown",
   "metadata": {},
   "source": [
    "### Capturando todas las partidas "
   ]
  },
  {
   "cell_type": "code",
   "execution_count": 10,
   "metadata": {
    "scrolled": true
   },
   "outputs": [
    {
     "name": "stdout",
     "output_type": "stream",
     "text": [
      "1200 Partidos procesados de 1223\n",
      "FIN!\n"
     ]
    }
   ],
   "source": [
    "# Excell sheets\n",
    "participants_identities_temp = None\n",
    "teams_temp = None\n",
    "participants_temp = None\n",
    "participants_stats_temp = None\n",
    "games_data_temp = None\n",
    "\n",
    "participants_identities = None\n",
    "teams = None\n",
    "participants = None\n",
    "participants_stats = None\n",
    "games_data = None\n",
    "\n",
    "#len(dataframe_matches.index)\n",
    "\n",
    "for i in range(0, len(dataframe_matches.index)):\n",
    "    try:\n",
    "        # Rate limiter\n",
    "        if (i + 1 == 500):\n",
    "            print(\"Esperando 10 segundos...\")\n",
    "            time.sleep(10)\n",
    "            \n",
    "        if (i == 50):\n",
    "            # Limpiando variables\n",
    "            participants_identities = pd.concat([participants_identities, participants_identities_temp])\n",
    "            teams = pd.concat([teams, teams_temp])\n",
    "            participants = pd.concat([participants, participants_temp])\n",
    "            participants_stats = pd.concat([participants_stats, participants_stats_temp])\n",
    "            games_data = pd.concat([games_data, games_data_temp])\n",
    "            \n",
    "            participants_identities = participants_identities.reset_index(drop=True)\n",
    "            teams = teams.reset_index(drop=True)\n",
    "            participants = participants.reset_index(drop=True)\n",
    "            participants_stats = participants_stats.reset_index(drop=True)\n",
    "            games_data = games_data.reset_index(drop=True)\n",
    "            \n",
    "            participants_identities_temp = None\n",
    "            teams_temp = None\n",
    "            participants_temp = None\n",
    "            participants_stats_temp = None\n",
    "            games_data_temp = None\n",
    "            \n",
    "        # Capture the next gameId\n",
    "        gameId_temp = dataframe_matches['gameId'][i]\n",
    "        \n",
    "        # Request data to riot API\n",
    "        partido = watcher.match.by_id(my_region, gameId_temp)\n",
    "        \n",
    "        # Identities\n",
    "        participants_identities_temp = ProcessParticipantsIdentities(partido, participants_identities_temp)\n",
    "        \n",
    "        teams_temp = ProcessTeams(partido, teams_temp)\n",
    "        \n",
    "        participants_temp, participants_stats_temp = ProcessParticipants(partido, participants_temp, participants_stats_temp)\n",
    "        \n",
    "        del partido['participantIdentities']\n",
    "        del partido['participants']\n",
    "        del partido['teams']\n",
    "        \n",
    "        games_data_temp = ProcessGameData(partido, games_data_temp)\n",
    "        \n",
    "        if (i % 50 == 0):\n",
    "            clear_output()\n",
    "            print(i, \"Partidos procesados de\", len(dataframe_matches.index))\n",
    "        \n",
    "    except urllib3.exceptions.HTTPError as err:\n",
    "        if err.response.status_code == 429:\n",
    "            print('We should retry in {} seconds.'.format(e.headers['Retry-After']))\n",
    "            print('this retry-after is handled by default by the RiotWatcher library')\n",
    "            print('future requests wait until the retry-after time passes')\n",
    "        elif err.response.status_code == 404:\n",
    "            print('Summoner with that ridiculous name not found.')\n",
    "        else:\n",
    "            raise\n",
    "            \n",
    "participants_identities = pd.concat([participants_identities, participants_identities_temp])\n",
    "teams = pd.concat([teams, teams_temp])\n",
    "participants = pd.concat([participants, participants_temp])\n",
    "participants_stats = pd.concat([participants_stats, participants_stats_temp])\n",
    "games_data = pd.concat([games_data, games_data_temp])\n",
    "\n",
    "participants_identities = participants_identities.reset_index(drop=True)\n",
    "teams = teams.reset_index(drop=True)\n",
    "participants = participants.reset_index(drop=True)\n",
    "participants_stats = participants_stats.reset_index(drop=True)\n",
    "games_data = games_data.reset_index(drop=True)\n",
    "            \n",
    "print(\"FIN!\")\n",
    "            \n",
    "participants = pd.concat([participants, participants_stats], axis=1)\n",
    "\n",
    "participants_identities.to_excel(writer,'participant_identities')\n",
    "teams.to_excel(writer,'teams')\n",
    "participants.to_excel(writer,'participants')\n",
    "games_data.to_excel(writer,'games_data')\n",
    "writer.save()"
   ]
  }
 ],
 "metadata": {
  "kernelspec": {
   "display_name": "Python 3",
   "language": "python",
   "name": "python3"
  },
  "language_info": {
   "codemirror_mode": {
    "name": "ipython",
    "version": 3
   },
   "file_extension": ".py",
   "mimetype": "text/x-python",
   "name": "python",
   "nbconvert_exporter": "python",
   "pygments_lexer": "ipython3",
   "version": "3.6.3"
  }
 },
 "nbformat": 4,
 "nbformat_minor": 2
}
