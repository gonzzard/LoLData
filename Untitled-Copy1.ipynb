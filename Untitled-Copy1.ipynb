{
 "cells": [
  {
   "cell_type": "markdown",
   "metadata": {},
   "source": [
    "### Imports "
   ]
  },
  {
   "cell_type": "code",
   "execution_count": 120,
   "metadata": {
    "scrolled": true
   },
   "outputs": [],
   "source": [
    "from riotwatcher import RiotWatcher\n",
    "from IPython.display import display, HTML\n",
    "import numpy as np\n",
    "import pandas as pd\n",
    "import urllib3\n",
    "import time\n",
    "from IPython.display import clear_output"
   ]
  },
  {
   "cell_type": "markdown",
   "metadata": {},
   "source": [
    "### Funciones"
   ]
  },
  {
   "cell_type": "code",
   "execution_count": 121,
   "metadata": {
    "collapsed": true
   },
   "outputs": [],
   "source": [
    "def ProcessParticipantsIdentities(param_partido, param_df):\n",
    "    participantIdentities = param_partido['participantIdentities']\n",
    "    df_participantIdentities_temp = None\n",
    "    \n",
    "    for index, row in enumerate(participantIdentities):\n",
    "        df_participantIdentities_temp = pd.DataFrame(participantIdentities[index]['player'], index=[0])\n",
    "        df_participantIdentities_temp['participantId'] = participantIdentities[index]['participantId'] \n",
    "        df_participantIdentities_temp['gameId']  = param_partido['gameId']\n",
    "        param_df.append(list(df_participantIdentities_temp))\n",
    "        #param_df = param_df.reset_index(drop=True)\n",
    "        \n",
    "    return param_df"
   ]
  },
  {
   "cell_type": "code",
   "execution_count": 122,
   "metadata": {
    "collapsed": true
   },
   "outputs": [],
   "source": [
    "def ProcessGameData(param_partido, param_df):\n",
    "    df_game_data_temp = pd.DataFrame(param_partido, index=[0])\n",
    "    param_df.append(df_game_data_temp)\n",
    "    return param_df"
   ]
  },
  {
   "cell_type": "code",
   "execution_count": 123,
   "metadata": {
    "collapsed": true
   },
   "outputs": [],
   "source": [
    "def ProcessParticipants(param_partido, param_df_participants, param_df_participants_stats):\n",
    "    participants = param_partido['participants']\n",
    "    df_participants_temp = None\n",
    "    df_participants_stats_temp = None\n",
    "    \n",
    "    for index, row in enumerate(participants):\n",
    "        # Stats\n",
    "        df_participants_stats_temp = pd.DataFrame(participants[index]['stats'], index=[0])\n",
    "        df_participants_stats_temp['timeline'] = [participants[index]['timeline']] \n",
    "        param_df_participants_stats.append(df_participants_stats_temp)\n",
    "        \n",
    "        del participants[index]['stats']\n",
    "        del participants[index]['timeline']\n",
    "        \n",
    "        df_participants_temp = pd.DataFrame(participants[index], index=[0])\n",
    "        df_participants_temp['gameId']  = param_partido['gameId']\n",
    "        df_participants_temp['participantId']  = i+1\n",
    "        df_participants_temp['participant_account_id'] = param_partido['participantIdentities'][index]['player']['accountId']\n",
    "        param_df_participants.append(df_participants_temp)\n",
    "        \n",
    "    return param_df_participants, param_df_participants_stats"
   ]
  },
  {
   "cell_type": "code",
   "execution_count": 124,
   "metadata": {},
   "outputs": [],
   "source": [
    "def ProcessTeams(param_partido, param_df_teams):\n",
    "    teams = param_partido['teams']\n",
    "    df_teams_temp = None\n",
    "    for index, row in enumerate(teams):\n",
    "        # Stats\n",
    "        bans = [teams[index]['bans']]\n",
    "        del teams[index]['bans']\n",
    "        df_teams_temp = pd.DataFrame(teams[index], index=[0])\n",
    "        df_teams_temp['gameId']  = param_partido['gameId']\n",
    "        df_teams_temp['bans'] = bans\n",
    "        param_df_teams.append(df_teams_temp)\n",
    "    return param_df_teams"
   ]
  },
  {
   "cell_type": "markdown",
   "metadata": {},
   "source": [
    "### Fill variables"
   ]
  },
  {
   "cell_type": "code",
   "execution_count": 125,
   "metadata": {
    "collapsed": true
   },
   "outputs": [],
   "source": [
    "watcher = RiotWatcher('RGAPI-2646e069-8203-431f-bba0-b3a6a5449ca7')\n",
    "my_region = 'euw1'\n",
    "player_name = 'vcf corvo'"
   ]
  },
  {
   "cell_type": "code",
   "execution_count": 126,
   "metadata": {
    "collapsed": true
   },
   "outputs": [],
   "source": [
    "player_data_df = pd.DataFrame(watcher.summoner.by_name(my_region, player_name), index=[0])\n",
    "writer = pd.ExcelWriter(player_name + '_' + str(player_data_df['accountId']) + '.xlsx')\n",
    "player_data_df.to_excel(writer,'player_data')"
   ]
  },
  {
   "cell_type": "code",
   "execution_count": 127,
   "metadata": {},
   "outputs": [
    {
     "name": "stdout",
     "output_type": "stream",
     "text": [
      "Capturando partidas de  0 a 100\n",
      "Capturando partidas de  100 a 200\n",
      "Capturando partidas de  200 a 300\n",
      "Capturando partidas de  300 a 400\n",
      "Capturando partidas de  400 a 500\n",
      "Capturando partidas de  500 a 600\n",
      "FIN\n",
      "Hay 502 Partidas\n"
     ]
    }
   ],
   "source": [
    "beggining_index = 0\n",
    "ended = False\n",
    "dataframe_matches = None\n",
    "dataframe_matches_temp = None\n",
    "while ended is False:\n",
    "    try:\n",
    "        print(\"Capturando partidas de \", beggining_index, \"a\", beggining_index + 100)\n",
    "        response_matches = watcher.match.matchlist_by_account(region=my_region, account_id=str(player_data_df['accountId'][0]), queue=420, begin_index=beggining_index, end_index=beggining_index+100 , season=11)\n",
    "        dataframe_matches_temp = pd.DataFrame(response_matches['matches'])\n",
    "        dataframe_matches = pd.concat([dataframe_matches, dataframe_matches_temp])\n",
    "        dataframe_matches = dataframe_matches.reset_index(drop=True)\n",
    "        if len(dataframe_matches_temp.index) is not 100:\n",
    "            ended = True\n",
    "            print(\"FIN\")\n",
    "            print(\"Hay\", len(dataframe_matches.index), \"Partidas\")\n",
    "        beggining_index = beggining_index + 100\n",
    "    except urllib3.exceptions.HTTPError as err:\n",
    "        if err.response.status_code == 429:\n",
    "            print('We should retry in {} seconds.'.format(e.headers['Retry-After']))\n",
    "            print('this retry-after is handled by default by the RiotWatcher library')\n",
    "            print('future requests wait until the retry-after time passes')\n",
    "        elif err.response.status_code == 404:\n",
    "            print('Summoner with that ridiculous name not found.')\n",
    "        else:\n",
    "            raise"
   ]
  },
  {
   "cell_type": "code",
   "execution_count": 128,
   "metadata": {
    "collapsed": true
   },
   "outputs": [],
   "source": [
    "dataframe_matches = dataframe_matches.sort_values('timestamp', ascending=False)\n",
    "dataframe_matches.to_excel(writer,'games_list')"
   ]
  },
  {
   "cell_type": "markdown",
   "metadata": {},
   "source": [
    "### Capturando todas las partidas "
   ]
  },
  {
   "cell_type": "code",
   "execution_count": 129,
   "metadata": {
    "scrolled": true
   },
   "outputs": [
    {
     "name": "stdout",
     "output_type": "stream",
     "text": [
      "351 Partidos procesados de 502\n"
     ]
    },
    {
     "ename": "KeyboardInterrupt",
     "evalue": "",
     "output_type": "error",
     "traceback": [
      "\u001b[0;31m---------------------------------------------------------------------------\u001b[0m",
      "\u001b[0;31mKeyboardInterrupt\u001b[0m                         Traceback (most recent call last)",
      "\u001b[0;32m<ipython-input-129-a4cc2f49e28c>\u001b[0m in \u001b[0;36m<module>\u001b[0;34m()\u001b[0m\n\u001b[1;32m     23\u001b[0m \u001b[0;34m\u001b[0m\u001b[0m\n\u001b[1;32m     24\u001b[0m         \u001b[0;31m# Request data to riot API\u001b[0m\u001b[0;34m\u001b[0m\u001b[0;34m\u001b[0m\u001b[0m\n\u001b[0;32m---> 25\u001b[0;31m         \u001b[0mpartido\u001b[0m \u001b[0;34m=\u001b[0m \u001b[0mwatcher\u001b[0m\u001b[0;34m.\u001b[0m\u001b[0mmatch\u001b[0m\u001b[0;34m.\u001b[0m\u001b[0mby_id\u001b[0m\u001b[0;34m(\u001b[0m\u001b[0mmy_region\u001b[0m\u001b[0;34m,\u001b[0m \u001b[0mgameId_temp\u001b[0m\u001b[0;34m)\u001b[0m\u001b[0;34m\u001b[0m\u001b[0m\n\u001b[0m\u001b[1;32m     26\u001b[0m \u001b[0;34m\u001b[0m\u001b[0m\n\u001b[1;32m     27\u001b[0m         \u001b[0;31m# Identities\u001b[0m\u001b[0;34m\u001b[0m\u001b[0;34m\u001b[0m\u001b[0m\n",
      "\u001b[0;32m~/anaconda3/lib/python3.6/site-packages/riotwatcher/_apis/MatchApiV3.py\u001b[0m in \u001b[0;36mby_id\u001b[0;34m(self, region, match_id)\u001b[0m\n\u001b[1;32m     29\u001b[0m             \u001b[0mself\u001b[0m\u001b[0;34m.\u001b[0m\u001b[0mby_id\u001b[0m\u001b[0;34m.\u001b[0m\u001b[0m__name__\u001b[0m\u001b[0;34m,\u001b[0m\u001b[0;34m\u001b[0m\u001b[0m\n\u001b[1;32m     30\u001b[0m             \u001b[0mregion\u001b[0m\u001b[0;34m,\u001b[0m\u001b[0;34m\u001b[0m\u001b[0m\n\u001b[0;32m---> 31\u001b[0;31m             \u001b[0;34m'/lol/match/v3/matches/{matchId}'\u001b[0m\u001b[0;34m.\u001b[0m\u001b[0mformat\u001b[0m\u001b[0;34m(\u001b[0m\u001b[0mmatchId\u001b[0m\u001b[0;34m=\u001b[0m\u001b[0mmatch_id\u001b[0m\u001b[0;34m)\u001b[0m\u001b[0;34m\u001b[0m\u001b[0m\n\u001b[0m\u001b[1;32m     32\u001b[0m         )\n\u001b[1;32m     33\u001b[0m \u001b[0;34m\u001b[0m\u001b[0m\n",
      "\u001b[0;32m~/anaconda3/lib/python3.6/site-packages/riotwatcher/_apis/NamedEndpoint.py\u001b[0m in \u001b[0;36m_request\u001b[0;34m(self, method_name, region, url_ext, **kwargs)\u001b[0m\n\u001b[1;32m     27\u001b[0m                                 \u001b[0mthe\u001b[0m \u001b[0;34m.\u001b[0m\u001b[0mcom\u001b[0m \u001b[0mextension\u001b[0m\u001b[0;34m.\u001b[0m\u001b[0;34m\u001b[0m\u001b[0m\n\u001b[1;32m     28\u001b[0m         \"\"\"\n\u001b[0;32m---> 29\u001b[0;31m         \u001b[0;32mreturn\u001b[0m \u001b[0mself\u001b[0m\u001b[0;34m.\u001b[0m\u001b[0m_base_api\u001b[0m\u001b[0;34m.\u001b[0m\u001b[0mrequest\u001b[0m\u001b[0;34m(\u001b[0m\u001b[0mself\u001b[0m\u001b[0;34m.\u001b[0m\u001b[0m_endpoint_name\u001b[0m\u001b[0;34m,\u001b[0m \u001b[0mmethod_name\u001b[0m\u001b[0;34m,\u001b[0m \u001b[0mregion\u001b[0m\u001b[0;34m,\u001b[0m \u001b[0murl_ext\u001b[0m\u001b[0;34m,\u001b[0m \u001b[0;34m**\u001b[0m\u001b[0mkwargs\u001b[0m\u001b[0;34m)\u001b[0m\u001b[0;34m\u001b[0m\u001b[0m\n\u001b[0m",
      "\u001b[0;32m~/anaconda3/lib/python3.6/site-packages/riotwatcher/_apis/BaseApi.py\u001b[0m in \u001b[0;36mrequest\u001b[0;34m(self, endpoint_name, method_name, region, url_ext, **kwargs)\u001b[0m\n\u001b[1;32m     27\u001b[0m                     \u001b[0mmethod_name\u001b[0m\u001b[0;34m,\u001b[0m\u001b[0;34m\u001b[0m\u001b[0m\n\u001b[1;32m     28\u001b[0m                     \u001b[0murl\u001b[0m\u001b[0;34m,\u001b[0m\u001b[0;34m\u001b[0m\u001b[0m\n\u001b[0;32m---> 29\u001b[0;31m                     \u001b[0mquery_params\u001b[0m\u001b[0;34m\u001b[0m\u001b[0m\n\u001b[0m\u001b[1;32m     30\u001b[0m                 )\n\u001b[1;32m     31\u001b[0m                 \u001b[0mearly_ret_idx\u001b[0m \u001b[0;34m=\u001b[0m \u001b[0midx\u001b[0m\u001b[0;34m\u001b[0m\u001b[0m\n",
      "\u001b[0;32m~/anaconda3/lib/python3.6/site-packages/riotwatcher/Handlers/RateLimit/RateLimitHandler.py\u001b[0m in \u001b[0;36mpreview_request\u001b[0;34m(self, region, endpoint_name, method_name, url, query_params)\u001b[0m\n\u001b[1;32m     53\u001b[0m                 \u001b[0mwait_until\u001b[0m\u001b[0;34m[\u001b[0m\u001b[0;36m1\u001b[0m\u001b[0;34m]\u001b[0m\u001b[0;34m\u001b[0m\u001b[0m\n\u001b[1;32m     54\u001b[0m             )\n\u001b[0;32m---> 55\u001b[0;31m             \u001b[0mtime\u001b[0m\u001b[0;34m.\u001b[0m\u001b[0msleep\u001b[0m\u001b[0;34m(\u001b[0m\u001b[0mto_wait\u001b[0m\u001b[0;34m.\u001b[0m\u001b[0mtotal_seconds\u001b[0m\u001b[0;34m(\u001b[0m\u001b[0;34m)\u001b[0m\u001b[0;34m)\u001b[0m\u001b[0;34m\u001b[0m\u001b[0m\n\u001b[0m\u001b[1;32m     56\u001b[0m \u001b[0;34m\u001b[0m\u001b[0m\n\u001b[1;32m     57\u001b[0m     \u001b[0;32mdef\u001b[0m \u001b[0mafter_request\u001b[0m\u001b[0;34m(\u001b[0m\u001b[0mself\u001b[0m\u001b[0;34m,\u001b[0m \u001b[0mregion\u001b[0m\u001b[0;34m,\u001b[0m \u001b[0mendpoint_name\u001b[0m\u001b[0;34m,\u001b[0m \u001b[0mmethod_name\u001b[0m\u001b[0;34m,\u001b[0m \u001b[0murl\u001b[0m\u001b[0;34m,\u001b[0m \u001b[0mresponse\u001b[0m\u001b[0;34m)\u001b[0m\u001b[0;34m:\u001b[0m\u001b[0;34m\u001b[0m\u001b[0m\n",
      "\u001b[0;31mKeyboardInterrupt\u001b[0m: "
     ]
    }
   ],
   "source": [
    "# Excell sheets\n",
    "participants_identities_temp = []\n",
    "teams_temp = []\n",
    "participants_temp = []\n",
    "participants_stats_temp = []\n",
    "games_data_temp = []\n",
    "\n",
    "participants_identities = None\n",
    "teams = None\n",
    "participants = None\n",
    "participants_stats = None\n",
    "games_data = None\n",
    "\n",
    "for i, row in enumerate(dataframe_matches.index):\n",
    "    try:\n",
    "        # Rate limiter\n",
    "        if (i + 1 == 500):\n",
    "            print(\"Esperando 10 segundos...\")\n",
    "            time.sleep(10)\n",
    "            \n",
    "        # Capture the next gameId\n",
    "        gameId_temp = dataframe_matches['gameId'][i]\n",
    "        \n",
    "        # Request data to riot API\n",
    "        partido = watcher.match.by_id(my_region, gameId_temp)\n",
    "        \n",
    "        # Identities\n",
    "        participants_identities_temp = ProcessParticipantsIdentities(partido, participants_identities_temp)\n",
    "        \n",
    "        teams_temp = ProcessTeams(partido, teams_temp)\n",
    "        \n",
    "        participants_temp, participants_stats_temp = ProcessParticipants(partido, participants_temp, participants_stats_temp)\n",
    "        \n",
    "        del partido['participantIdentities']\n",
    "        del partido['participants']\n",
    "        del partido['teams']\n",
    "        \n",
    "        games_data_temp = ProcessGameData(partido, games_data_temp)\n",
    "             \n",
    "        clear_output()\n",
    "        print(i, \"Partidos procesados de\", len(dataframe_matches.index))\n",
    "        \n",
    "    except urllib3.exceptions.HTTPError as err:\n",
    "        if err.response.status_code == 429:\n",
    "            print('We should retry in {} seconds.'.format(e.headers['Retry-After']))\n",
    "            print('this retry-after is handled by default by the RiotWatcher library')\n",
    "            print('future requests wait until the retry-after time passes')\n",
    "        elif err.response.status_code == 404:\n",
    "            print('Summoner with that ridiculous name not found.')\n",
    "        else:\n",
    "            raise\n",
    "            \n",
    "participants_identities = pd.concat([participants_identities, participants_identities_temp])\n",
    "teams = pd.concat([teams, teams_temp])\n",
    "participants = pd.concat([participants, participants_temp])\n",
    "participants_stats = pd.concat([participants_stats, participants_stats_temp])\n",
    "games_data = pd.concat([games_data, games_data_temp])\n",
    "\n",
    "participants_identities = participants_identities.reset_index(drop=True)\n",
    "teams = teams.reset_index(drop=True)\n",
    "participants = participants.reset_index(drop=True)\n",
    "participants_stats = participants_stats.reset_index(drop=True)\n",
    "games_data = games_data.reset_index(drop=True)\n",
    "            \n",
    "print(\"FIN!\")\n",
    "            \n",
    "participants = pd.concat([participants, participants_stats], axis=1)\n",
    "\n",
    "participants_identities.to_excel(writer,'participant_identities')\n",
    "teams.to_excel(writer,'teams')\n",
    "participants.to_excel(writer,'participants')\n",
    "games_data.to_excel(writer,'games_data')\n",
    "writer.save()"
   ]
  },
  {
   "cell_type": "code",
   "execution_count": null,
   "metadata": {
    "collapsed": true
   },
   "outputs": [],
   "source": []
  }
 ],
 "metadata": {
  "kernelspec": {
   "display_name": "Python 3",
   "language": "python",
   "name": "python3"
  },
  "language_info": {
   "codemirror_mode": {
    "name": "ipython",
    "version": 3
   },
   "file_extension": ".py",
   "mimetype": "text/x-python",
   "name": "python",
   "nbconvert_exporter": "python",
   "pygments_lexer": "ipython3",
   "version": "3.6.3"
  }
 },
 "nbformat": 4,
 "nbformat_minor": 2
}
